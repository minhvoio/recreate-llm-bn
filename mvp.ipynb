{
 "cells": [
  {
   "cell_type": "code",
   "execution_count": 1,
   "id": "8bf1e205",
   "metadata": {},
   "outputs": [],
   "source": [
    "MODEL = \"qwen3:1.7b\""
   ]
  },
  {
   "cell_type": "markdown",
   "id": "4ca77d64",
   "metadata": {},
   "source": [
    "# User Query Input"
   ]
  },
  {
   "cell_type": "code",
   "execution_count": 2,
   "id": "2ded5da4",
   "metadata": {},
   "outputs": [],
   "source": [
    "import requests\n",
    "import json\n",
    "from IPython.display import display, Markdown, clear_output\n",
    "\n",
    "def answer_this_prompt(prompt, stream=False, model=MODEL, temperature=0, format=None):\n",
    "    payload = {\n",
    "        \"prompt\": prompt,\n",
    "        \"model\": model,\n",
    "        \"temperature\": temperature,\n",
    "        \"max_new_tokens\": 50, # only when stream = False work\n",
    "        \"format\": format\n",
    "    }\n",
    "    headers = {\n",
    "        'Content-Type': 'application/json'\n",
    "    }\n",
    "    endpoint = \"http://localhost:11434/api/generate\"\n",
    "\n",
    "    # Send the POST request with streaming enabled\n",
    "    with requests.post(endpoint, headers=headers, json=payload, stream=True) as response:\n",
    "        if response.status_code == 200:\n",
    "            try:\n",
    "                # Process the response incrementally\n",
    "                full_response = \"\"\n",
    "                for line in response.iter_lines(decode_unicode=True):\n",
    "                    if line.strip():  # Skip empty lines\n",
    "                        response_json = json.loads(line)\n",
    "                        chunk = response_json.get(\"response\", \"\")\n",
    "                        full_response += chunk\n",
    "                        \n",
    "                        # Render the response as Markdown\n",
    "                        if stream:\n",
    "                            clear_output(wait=True)\n",
    "                            display(Markdown(full_response))\n",
    "                        \n",
    "                return full_response\n",
    "            except json.JSONDecodeError as e:\n",
    "                return \"Failed to parse JSON: \" + str(e)\n",
    "        else:\n",
    "            return \"Failed to retrieve response: \" + str(response.status_code)\n",
    "        \n",
    "def multiple_answer_this_prompt(prompt, stream=False, model=MODEL, temperature=0, format=None, n_answers=1):\n",
    "    answers = []\n",
    "    for _ in range(n_answers):\n",
    "        answer = answer_this_prompt(prompt, stream=stream, model=model, temperature=temperature, format=format)\n",
    "        answers.append(answer)\n",
    "    return answers"
   ]
  },
  {
   "cell_type": "code",
   "execution_count": 9,
   "id": "1d2f7d9c",
   "metadata": {},
   "outputs": [],
   "source": [
    "# Example usage\n",
    "# ans = answer_this_prompt(\"What is the Big Bang theory?\", stream=True)\n",
    "# print(\"------------------------\")\n",
    "# # print(ans)"
   ]
  },
  {
   "cell_type": "code",
   "execution_count": 3,
   "id": "24e2f649",
   "metadata": {},
   "outputs": [
    {
     "name": "stdout",
     "output_type": "stream",
     "text": [
      "Loading Netica\n"
     ]
    }
   ],
   "source": [
    "bn_path = \"./nets/collection/\"\n",
    "from bni_netica.bni_netica import *\n",
    "from bni_netica.bni_netica import Net\n",
    "\n",
    "# berkeleyAdmissionNet = Net(bn_path+\"Berkeley Admissions.neta\")\n"
   ]
  },
  {
   "cell_type": "code",
   "execution_count": 4,
   "id": "b3311600",
   "metadata": {},
   "outputs": [],
   "source": [
    "CancerNeapolitanNet = Net(bn_path+\"Cancer Neapolitan.neta\")\n",
    "ChestClinicNet = Net(bn_path+\"ChestClinic.neta\")\n",
    "ClassifierNet = Net(bn_path+\"Classifier.neta\")\n",
    "CoronaryRiskNet = Net(bn_path+\"Coronary Risk.neta\")\n",
    "FireNet = Net(bn_path+\"Fire.neta\")\n",
    "MendelGeneticsNet = Net(bn_path+\"Mendel Genetics.neta\")\n",
    "RatsNet = Net(bn_path+\"Rats.neta\")\n",
    "WetGrassNet = Net(bn_path+\"Wet Grass.neta\")\n",
    "RatsNoisyOr = Net(bn_path+\"Rats_NoisyOr.dne\")\n",
    "Derm = Net(bn_path+\"Derm 7.9 A.dne\")"
   ]
  },
  {
   "cell_type": "code",
   "execution_count": null,
   "id": "b8b1998c",
   "metadata": {},
   "outputs": [],
   "source": [
    "BN = \"\"\n",
    "\n",
    "for node in ChestClinicNet.nodes():\n",
    "\t# print(f\"{node.name()} -> {[child.name() for child in node.children()]}\")\n",
    "\tBN += f\"{node.name()} -> {[child.name() for child in node.children()]}\\n\"\n",
    "\t\n",
    "print(BN)"
   ]
  },
  {
   "cell_type": "code",
   "execution_count": 36,
   "id": "465c9f15",
   "metadata": {},
   "outputs": [],
   "source": [
    "from pydantic import BaseModel\n",
    "\n",
    "class Query(BaseModel):\n",
    "  fromNode: str\n",
    "  toNode: str\n",
    "\n",
    "PROMPT = \"\"\"In this Bayesian Networks: {BN}, is {fromNode} connected to {toNode}?\"\"\""
   ]
  },
  {
   "cell_type": "code",
   "execution_count": null,
   "id": "f69191fb",
   "metadata": {},
   "outputs": [
    {
     "ename": "NameError",
     "evalue": "name 'BN' is not defined",
     "output_type": "error",
     "traceback": [
      "\u001b[31m---------------------------------------------------------------------------\u001b[39m",
      "\u001b[31mNameError\u001b[39m                                 Traceback (most recent call last)",
      "\u001b[36mCell\u001b[39m\u001b[36m \u001b[39m\u001b[32mIn[30]\u001b[39m\u001b[32m, line 3\u001b[39m\n\u001b[32m      1\u001b[39m node1 = \u001b[33m\"\u001b[39m\u001b[33mSmoking\u001b[39m\u001b[33m\"\u001b[39m\n\u001b[32m      2\u001b[39m node2 = \u001b[33m\"\u001b[39m\u001b[33mCancer\u001b[39m\u001b[33m\"\u001b[39m\n\u001b[32m----> \u001b[39m\u001b[32m3\u001b[39m \u001b[38;5;28minput\u001b[39m = PROMPT.format(BN=\u001b[43mBN\u001b[49m, thisNode=node1, thatNode=node2) \n\u001b[32m      5\u001b[39m ans = answer_this_prompt(\u001b[38;5;28minput\u001b[39m, \u001b[38;5;28mformat\u001b[39m=Query.model_json_schema())\n\u001b[32m      6\u001b[39m query = Query.model_validate_json(ans)\n",
      "\u001b[31mNameError\u001b[39m: name 'BN' is not defined"
     ]
    }
   ],
   "source": [
    "fromNode = \"Smoking\"\n",
    "toNode = \"Cancer\"\n",
    "input = PROMPT.format(BN=BN, fromNode=fromNode, toNode=toNode) \n",
    "\n",
    "ans = answer_this_prompt(input, format=Query.model_json_schema())\n",
    "query = Query.model_validate_json(ans)\n",
    "print(query)"
   ]
  },
  {
   "cell_type": "code",
   "execution_count": null,
   "id": "9a8a3902",
   "metadata": {},
   "outputs": [
    {
     "name": "stdout",
     "output_type": "stream",
     "text": [
      "Is Smoking connected to Cancer?\n"
     ]
    }
   ],
   "source": [
    "queryFromNode = query.fromNode\n",
    "queryToNode = query.toNode\n",
    "print(f\"Is {queryFromNode} connected to {queryToNode}?\")"
   ]
  },
  {
   "cell_type": "code",
   "execution_count": null,
   "id": "68571bd0",
   "metadata": {},
   "outputs": [],
   "source": [
    "def isConnected(net, fromNode, toNode):\n",
    "  relatedNodes = net.node(fromNode).getRelated(\"d_connected\")\n",
    "  for node in relatedNodes:\n",
    "    if node.name() == toNode:\n",
    "      return True\n",
    "  return False"
   ]
  },
  {
   "cell_type": "code",
   "execution_count": null,
   "id": "f4720a74",
   "metadata": {},
   "outputs": [
    {
     "name": "stdout",
     "output_type": "stream",
     "text": [
      "Is Smoking connected to Cancer? Yes\n"
     ]
    }
   ],
   "source": [
    "print(f\"Is {queryFromNode} connected to {queryToNode}? {'Yes' if isConnected(ChestClinicNet, queryFromNode, queryToNode) else 'No'}\")"
   ]
  },
  {
   "cell_type": "code",
   "execution_count": null,
   "id": "84e1a3e2",
   "metadata": {},
   "outputs": [],
   "source": [
    "def explainConnection(net, fromNode, toNode):\n",
    "    if isConnected(net, fromNode, toNode):\n",
    "        return f\"Yes, {fromNode} is d-connected to {toNode}, which means that entering evidence for {fromNode} would change the probability of {toNode} and vice versa.\"\n",
    "    else:\n",
    "        return f\"No, {fromNode} is not d-connected to {toNode}, which means that entering evidence for {fromNode} would not change the probability of {toNode}.\""
   ]
  },
  {
   "cell_type": "code",
   "execution_count": null,
   "id": "cce2bea2",
   "metadata": {},
   "outputs": [
    {
     "name": "stdout",
     "output_type": "stream",
     "text": [
      "Yes, Smoking is d-connected to Cancer, which means that entering evidence for Smoking would change the probability of Cancer and vice versa.\n"
     ]
    }
   ],
   "source": [
    "print(explainConnection(ChestClinicNet, queryNode1, queryNode2))"
   ]
  },
  {
   "cell_type": "markdown",
   "id": "b61866e7",
   "metadata": {},
   "source": [
    "# CHECKING CHECKING CHECKING"
   ]
  },
  {
   "cell_type": "code",
   "execution_count": 37,
   "id": "b5baa5f6",
   "metadata": {},
   "outputs": [],
   "source": [
    "def correctIdentification(net, fromNode, toNode):\n",
    "    BN = \"\"\n",
    "    \n",
    "    for node in net.nodes():\n",
    "        BN += f\"{node.name()} -> {[child.name() for child in node.children()]}\\n\"\n",
    "\n",
    "    input = PROMPT.format(BN=BN, fromNode=fromNode, toNode=toNode)\n",
    "    ans = answer_this_prompt(input, format=Query.model_json_schema())\n",
    "    query = Query.model_validate_json(ans)\n",
    "    queryFromNode = query.fromNode\n",
    "    queryToNode = query.toNode\n",
    "\n",
    "    return queryFromNode == fromNode and queryToNode == toNode, queryFromNode, queryToNode"
   ]
  },
  {
   "cell_type": "code",
   "execution_count": null,
   "id": "b78d1247",
   "metadata": {},
   "outputs": [
    {
     "name": "stdout",
     "output_type": "stream",
     "text": [
      "Correct identification: True\n"
     ]
    }
   ],
   "source": [
    "node1 = \"Smoking\"\n",
    "node2 = \"Cancer\"\n",
    "print(f\"Correct identification: {correctIdentification(ChestClinicNet, node1, node2)}\")"
   ]
  },
  {
   "cell_type": "code",
   "execution_count": null,
   "id": "7028349b",
   "metadata": {},
   "outputs": [],
   "source": [
    "import random \n",
    "def pickTwoRandomNodes(net):\n",
    "    nodes = net.nodes()\n",
    "    if len(nodes) < 2:\n",
    "        return None, None\n",
    "    node1, node2 = random.sample(nodes, 2)\n",
    "    return node1.name(), node2.name()"
   ]
  },
  {
   "cell_type": "code",
   "execution_count": 15,
   "id": "759eefb1",
   "metadata": {},
   "outputs": [
    {
     "name": "stdout",
     "output_type": "stream",
     "text": [
      "('Dyspnea', 'XRay')\n"
     ]
    }
   ],
   "source": [
    "print(pickTwoRandomNodes(ChestClinicNet))"
   ]
  },
  {
   "cell_type": "code",
   "execution_count": 41,
   "id": "dee337b1",
   "metadata": {},
   "outputs": [],
   "source": [
    "def printNet(net):\n",
    "    for node in net.nodes():\n",
    "        print(f\"{node.name()} -> {[child.name() for child in node.children()]}\")"
   ]
  },
  {
   "cell_type": "code",
   "execution_count": null,
   "id": "7b094940",
   "metadata": {},
   "outputs": [],
   "source": [
    "listOfNets = [CancerNeapolitanNet, ChestClinicNet, ClassifierNet, CoronaryRiskNet, FireNet, MendelGeneticsNet, RatsNet, WetGrassNet, RatsNoisyOr, Derm]\n",
    "total = 0\n",
    "correct = 0\n",
    "\n",
    "for net in listOfNets:\n",
    "    for _ in range(10):\n",
    "      total += 1\n",
    "      fromNode, toNode = pickTwoRandomNodes(net)\n",
    "      if fromNode and toNode:\n",
    "          correctIdentified, queryFromNode, queryToNode = correctIdentification(net, fromNode, toNode)\n",
    "          if correctIdentified:\n",
    "            correct += 1\n",
    "          else:\n",
    "            print(f\"Incorrect identification for {net.name()}\")\n",
    "            printNet(net)\n",
    "            print()\n",
    "            print(\"Expected:\", fromNode, \"->\", toNode)\n",
    "            print(\"Reality:\", queryFromNode, \"->\", queryToNode)\n",
    "            print(\"----------------------------------------------------\")\n",
    "\n",
    "print(f\"Total: {total}, Correct: {correct}, Accuracy: {correct/total:.2%}\")"
   ]
  }
 ],
 "metadata": {
  "kernelspec": {
   "display_name": "llm-bn",
   "language": "python",
   "name": "python3"
  },
  "language_info": {
   "codemirror_mode": {
    "name": "ipython",
    "version": 3
   },
   "file_extension": ".py",
   "mimetype": "text/x-python",
   "name": "python",
   "nbconvert_exporter": "python",
   "pygments_lexer": "ipython3",
   "version": "3.13.5"
  }
 },
 "nbformat": 4,
 "nbformat_minor": 5
}
