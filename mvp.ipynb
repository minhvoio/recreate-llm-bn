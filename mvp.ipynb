{
 "cells": [
  {
   "cell_type": "code",
   "execution_count": 22,
   "id": "8bf1e205",
   "metadata": {},
   "outputs": [],
   "source": [
    "MODEL = \"qwen3:1.7b\""
   ]
  },
  {
   "cell_type": "markdown",
   "id": "4ca77d64",
   "metadata": {},
   "source": [
    "# User Query Input"
   ]
  },
  {
   "cell_type": "code",
   "execution_count": 23,
   "id": "2ded5da4",
   "metadata": {},
   "outputs": [],
   "source": [
    "import requests\n",
    "import json\n",
    "from IPython.display import display, Markdown, clear_output\n",
    "\n",
    "def answer_this_prompt(prompt, stream=False, model=MODEL, temperature=0, format=None):\n",
    "    payload = {\n",
    "        \"prompt\": prompt,\n",
    "        \"model\": model,\n",
    "        \"temperature\": temperature,\n",
    "        \"max_new_tokens\": 50, # only when stream = False work\n",
    "        \"format\": format\n",
    "    }\n",
    "    headers = {\n",
    "        'Content-Type': 'application/json'\n",
    "    }\n",
    "    endpoint = \"http://localhost:11434/api/generate\"\n",
    "\n",
    "    # Send the POST request with streaming enabled\n",
    "    with requests.post(endpoint, headers=headers, json=payload, stream=True) as response:\n",
    "        if response.status_code == 200:\n",
    "            try:\n",
    "                # Process the response incrementally\n",
    "                full_response = \"\"\n",
    "                for line in response.iter_lines(decode_unicode=True):\n",
    "                    if line.strip():  # Skip empty lines\n",
    "                        response_json = json.loads(line)\n",
    "                        chunk = response_json.get(\"response\", \"\")\n",
    "                        full_response += chunk\n",
    "                        \n",
    "                        # Render the response as Markdown\n",
    "                        if stream:\n",
    "                            clear_output(wait=True)\n",
    "                            display(Markdown(full_response))\n",
    "                        \n",
    "                return full_response\n",
    "            except json.JSONDecodeError as e:\n",
    "                return \"Failed to parse JSON: \" + str(e)\n",
    "        else:\n",
    "            return \"Failed to retrieve response: \" + str(response.status_code)\n",
    "        \n",
    "def multiple_answer_this_prompt(prompt, stream=False, model=MODEL, temperature=0, format=None, n_answers=1):\n",
    "    answers = []\n",
    "    for _ in range(n_answers):\n",
    "        answer = answer_this_prompt(prompt, stream=stream, model=model, temperature=temperature, format=format)\n",
    "        answers.append(answer)\n",
    "    return answers"
   ]
  },
  {
   "cell_type": "code",
   "execution_count": 24,
   "id": "1d2f7d9c",
   "metadata": {},
   "outputs": [
    {
     "data": {
      "text/markdown": [
       "<think>\n",
       "Okay, I need to explain the Big Bang theory. Let me start by recalling what I know. The Big Bang theory is a cosmological model that explains the early development of the universe. So, the key points are that the universe began from a singularity and has been expanding ever since.\n",
       "\n",
       "Wait, but I should make sure I'm not mixing up anything. The theory suggests that the universe was once extremely hot and dense, and then it expanded. But what exactly happened in the first moments? There's the concept of the universe's expansion, and the expansion rate. Also, the cosmic microwave background radiation is a key piece of evidence supporting this theory.\n",
       "\n",
       "I should mention the evidence like the redshift of galaxies, the distribution of galaxies, and the abundance of light elements. Oh, right, the abundance of light elements like hydrogen and helium is another piece. The theory also explains the observed expansion of the universe, which is supported by observations like the Hubble's Law.\n",
       "\n",
       "But I need to structure this properly. Start with the basic idea, then the evidence, then the implications. Maybe also mention the timeline, like the age of the universe being about 13.8 billion years. Also, the fact that the universe is still expanding, and the role of dark energy in the current expansion.\n",
       "\n",
       "Wait, but the user might be looking for a concise explanation. Let me check if I'm covering all the important aspects without going too deep. The Big Bang theory is the prevailing cosmological model, explaining the universe's origin. It's based on observations and theoretical models, including the expansion of the universe and the cosmic microwave background. The theory is supported by multiple lines of evidence, such as the observed expansion of galaxies, the abundance of light elements, and the cosmic microwave background.\n",
       "\n",
       "I should also mention that the theory is not without controversy, but it's the most widely accepted explanation. Maybe include that it's a scientific theory, not a dogma, and that it's continually tested and refined with new data.\n",
       "\n",
       "Hmm, I need to make sure the information is accurate. For example, the Big Bang theory doesn't exactly say the universe was created from a singularity, but that it began to expand from a very hot and dense state. The singularity is a concept in physics, but it's not a physical point, just a mathematical model.\n",
       "\n",
       "Also, the expansion rate is important. The universe is expanding, and the rate of expansion is influenced by dark energy. The current expansion is accelerating due to dark energy, which is a key factor in the model.\n",
       "\n",
       "I think that's the main points. Now, I need to put this together in a clear, concise way, using proper terminology and structure.\n",
       "</think>\n",
       "\n",
       "The **Big Bang Theory** is the prevailing scientific explanation for the universe's origin and evolution. It posits that the universe began as an extremely hot, dense singularity around 13.8 billion years ago and has since been expanding ever since. Here's a structured overview:\n",
       "\n",
       "### Key Concepts:\n",
       "1. **Origin**:  \n",
       "   - The universe started as a singularity—a point of infinite density and temperature.  \n",
       "   - It underwent a rapid expansion (inflation) followed by a slower, ongoing expansion.\n",
       "\n",
       "2. **Expansion and Cooling**:  \n",
       "   - The universe expanded, cooling as it spread out.  \n",
       "   - This expansion explains the observed redshift of galaxies (Hubble's Law) and the distribution of galaxies in the universe.\n",
       "\n",
       "3. **Evidence**:  \n",
       "   - **Cosmic Microwave Background (CMB)**: The faint afterglow of the Big Bang, discovered in 1964, confirms the universe was once hot and dense.  \n",
       "   - **Abundance of Light Elements**: The observed ratios of hydrogen, helium, and trace lithium match predictions from the Big Bang nucleosynthesis.  \n",
       "   - **Galaxy Distribution**: The large-scale structure of the universe aligns with the theory's predictions of cosmic expansion.  \n",
       "   - **Gravitational Lensing and Dark Energy**: Observations of the universe's expansion rate and acceleration (dark energy) support the model.\n",
       "\n",
       "4. **Timeline**:  \n",
       "   - The universe is approximately **13.8 billion years old**.  \n",
       "   - The **inflationary epoch** (10^-36 seconds to 10^-32 seconds) explains the rapid expansion.  \n",
       "   - The **Hubble Time** (13.8 billion years) is determined by the observed expansion rate.\n",
       "\n",
       "5. **Implications**:  \n",
       "   - The universe is **not static** but expanding, with the rate of expansion influenced by **dark energy** (a mysterious force accelerating the expansion).  \n",
       "   - The theory is **supported by multiple lines of evidence**, though it remains **theoretical** and **continuously refined** as new data emerges.\n",
       "\n",
       "### Summary:\n",
       "The Big Bang Theory is a foundational framework in cosmology, describing the universe's origin, evolution, and current state. It is supported by empirical evidence and remains the most comprehensive explanation for the cosmos' early history. While it addresses the **origin** of the universe, it does not explain **everything** (e.g., the nature of dark matter or the ultimate fate of the universe), but it provides a robust and testable framework for understanding the cosmos."
      ],
      "text/plain": [
       "<IPython.core.display.Markdown object>"
      ]
     },
     "metadata": {},
     "output_type": "display_data"
    },
    {
     "name": "stdout",
     "output_type": "stream",
     "text": [
      "------------------------\n"
     ]
    }
   ],
   "source": [
    "# Example usage\n",
    "ans = answer_this_prompt(\"What is the Big Bang theory?\", stream=True)\n",
    "print(\"------------------------\")\n",
    "# print(ans)"
   ]
  },
  {
   "cell_type": "code",
   "execution_count": null,
   "id": "24e2f649",
   "metadata": {},
   "outputs": [],
   "source": [
    "bn_path = \"./nets/collection/\"\n",
    "from bni_netica.bni_netica import *\n",
    "from bni_netica.bni_netica import Net\n",
    "\n",
    "# berkeleyAdmissionNet = Net(bn_path+\"Berkeley Admissions.neta\")\n"
   ]
  },
  {
   "cell_type": "code",
   "execution_count": 31,
   "id": "b3311600",
   "metadata": {},
   "outputs": [
    {
     "name": "stdout",
     "output_type": "stream",
     "text": [
      "VisitAsia -> ['Tuberculosis']\n",
      "Tuberculosis -> ['TbOrCa']\n",
      "Smoking -> ['Cancer', 'Bronchitis']\n",
      "Cancer -> ['TbOrCa']\n",
      "TbOrCa -> ['XRay', 'Dyspnea']\n",
      "XRay -> []\n",
      "Bronchitis -> ['Dyspnea']\n",
      "Dyspnea -> []\n",
      "\n"
     ]
    }
   ],
   "source": [
    "CancerNeapolitanNet = Net(bn_path+\"Cancer Neapolitan.neta\")\n",
    "ChestClinicNet = Net(bn_path+\"ChestClinic.neta\")\n",
    "ClassifierNet = Net(bn_path+\"Classifier.neta\")\n",
    "CoronaryRiskNet = Net(bn_path+\"Coronary Risk.neta\")\n",
    "FireNet = Net(bn_path+\"Fire.neta\")\n",
    "MendelGeneticsNet = Net(bn_path+\"Mendel Genetics.neta\")\n",
    "RatsNet = Net(bn_path+\"Rats.neta\")\n",
    "WetGrassNet = Net(bn_path+\"Wet Grass.neta\")\n",
    "RatsNoisyOr = Net(bn_path+\"Rats_NoisyOr.dne\")\n",
    "Derm = Net(bn_path+\"Derm 7.9 A.dne\")\n",
    "\n",
    "BN = \"\"\n",
    "\n",
    "for node in ChestClinicNet.nodes():\n",
    "\t# print(f\"{node.name()} -> {[child.name() for child in node.children()]}\")\n",
    "\tBN += f\"{node.name()} -> {[child.name() for child in node.children()]}\\n\"\n",
    "\t\n",
    "print(BN)"
   ]
  },
  {
   "cell_type": "code",
   "execution_count": 34,
   "id": "f69191fb",
   "metadata": {},
   "outputs": [
    {
     "name": "stdout",
     "output_type": "stream",
     "text": [
      "fromNode='Smoking' toNode='Cancer'\n"
     ]
    }
   ],
   "source": [
    "from pydantic import BaseModel\n",
    "\n",
    "class Query(BaseModel):\n",
    "  fromNode: str\n",
    "  toNode: str\n",
    "\n",
    "PROMPT = \"\"\"In this Bayesian Networks: {BN}, is {fromNode} connected to {toNode}?\"\"\"\n",
    "\n",
    "fromNode = \"Smoking\"\n",
    "toNode = \"Cancer\"\n",
    "input = PROMPT.format(BN=BN, fromNode=fromNode, toNode=toNode) \n",
    "\n",
    "ans = answer_this_prompt(input, format=Query.model_json_schema())\n",
    "query = Query.model_validate_json(ans)\n",
    "print(query)"
   ]
  },
  {
   "cell_type": "code",
   "execution_count": null,
   "id": "9a8a3902",
   "metadata": {},
   "outputs": [],
   "source": []
  }
 ],
 "metadata": {
  "kernelspec": {
   "display_name": "llm-bn",
   "language": "python",
   "name": "python3"
  },
  "language_info": {
   "codemirror_mode": {
    "name": "ipython",
    "version": 3
   },
   "file_extension": ".py",
   "mimetype": "text/x-python",
   "name": "python",
   "nbconvert_exporter": "python",
   "pygments_lexer": "ipython3",
   "version": "3.13.5"
  }
 },
 "nbformat": 4,
 "nbformat_minor": 5
}
